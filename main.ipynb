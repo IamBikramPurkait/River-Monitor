{
 "cells": [
  {
   "cell_type": "markdown",
   "metadata": {},
   "source": [
    "# Importing Library"
   ]
  },
  {
   "cell_type": "code",
   "execution_count": null,
   "metadata": {},
   "outputs": [],
   "source": [
    "import cv2\n",
    "import numpy as np\n",
    "from PIL import Image\n",
    "import matplotlib.pyplot as plt"
   ]
  },
  {
   "cell_type": "markdown",
   "metadata": {},
   "source": [
    "# Plot images"
   ]
  },
  {
   "cell_type": "code",
   "execution_count": null,
   "metadata": {},
   "outputs": [],
   "source": [
    "image = ['img_1973', 'img_1980', 'img_1989', 'img_2003', 'img_2010']\n",
    "\n",
    "for i in range(5):\n",
    "    title = image[i][-4:]\n",
    "    image[i] = Image.open(f\"Data/{image[i]}.png\")\n",
    "    plt.imshow(image[i])\n",
    "    plt.title(f'Year : {title}')\n",
    "    plt.show()"
   ]
  },
  {
   "cell_type": "markdown",
   "metadata": {},
   "source": [
    "# Count Area(Pixel) for River(Blue Pixel)"
   ]
  },
  {
   "cell_type": "code",
   "execution_count": null,
   "metadata": {},
   "outputs": [],
   "source": [
    "# Load image by cv2.imread\n",
    "img = cv2.imread('Data/img_1973.png')\n",
    "\n",
    "# Convert BGR to HSV/HSB Colour Space\n",
    "hsv = cv2.cvtColor(img, cv2.COLOR_BGR2HSV)\n",
    "\n",
    "# create mask for blue color in hsv\n",
    "# lower and upper range for blue colour\n",
    "lower = np.array([110,50,50])\n",
    "upper = np.array([130,255,255])\n",
    "\n",
    "# Inrange the hsv image to filter out blue component to a binary image\n",
    "mask = cv2.inRange(hsv, lower, upper)\n",
    "\n",
    "# count non-zero pixels in mask\n",
    "count = cv2.countNonZero(mask)\n",
    "plt.imshow(mask)\n",
    "plt.show()\n",
    "print('Pixel count:', count)\n",
    "\n",
    "# -----------------------------------------------------------------------------------------------------------\n",
    "\n",
    "# Check the blue colour hsv value for opencv\n",
    "# Reference Link -->\n",
    "# https://docs.opencv.org/4.x/df/d9d/tutorial_py_colorspaces.html#:~:text=For%20HSV%2C%20hue%20range%20is,value%20range%20is%20%5B0%2C255%5D\n",
    "# blue = np.uint8([[[255, 0, 0]]])\n",
    "# hsvBlue = cv2.cvtColor(blue, cv2.COLOR_BGR2HSV)\n",
    "\n",
    "# lowerLimit = hsvBlue[0][0][0] - 10, 100, 100\n",
    "# upperLimit = hsvBlue[0][0][0] + 10, 255, 255\n",
    "\n",
    "# print(lowerLimit,upperLimit)\n",
    "\n",
    "# -----------------------------------------------------------------------------------------------------------\n",
    "\n",
    "# # Show and save output\n",
    "# plt.imshow(mask)\n",
    "# plt.show()\n",
    "# cv2.imwrite(\"mask_output.png\", mask)\n"
   ]
  },
  {
   "cell_type": "markdown",
   "metadata": {},
   "source": [
    "# Count the Area of Every Year"
   ]
  },
  {
   "cell_type": "code",
   "execution_count": null,
   "metadata": {},
   "outputs": [],
   "source": [
    "image = ['img_1973', 'img_1980', 'img_1989', 'img_2003', 'img_2010']\n",
    "lower = np.array([110, 50, 50])\n",
    "upper = np.array([130, 255, 255])\n",
    "\n",
    "area = []\n",
    "year = []\n",
    "areaDetails = {}\n",
    "\n",
    "\n",
    "for i in range(5):\n",
    "    img = cv2.imread(f'Data/{image[i]}.png')\n",
    "    hsv = cv2.cvtColor(img, cv2.COLOR_BGR2HSV)\n",
    "    mask = cv2.inRange(hsv, lower, upper)\n",
    "    count = cv2.countNonZero(mask)\n",
    "    area.append(count)\n",
    "    title = image[i][-4:]\n",
    "    year.append(title)\n",
    "\n",
    "areaDetails = {year[i]: area[i] for i in range(len(year))}\n",
    "print(areaDetails)\n",
    "\n",
    "\n",
    "# Area difference\n",
    "AreaDifference = []\n",
    "\n",
    "for i in range(4):\n",
    "    print(area[i])\n",
    "    AreaDifference.append(abs(area[i]-area[i+1]))\n",
    "\n",
    "print(AreaDifference)\n"
   ]
  },
  {
   "cell_type": "markdown",
   "metadata": {},
   "source": [
    "# Graphical Representation"
   ]
  },
  {
   "cell_type": "code",
   "execution_count": null,
   "metadata": {},
   "outputs": [],
   "source": [
    "# x-coordinates of left sides of bars \n",
    "left = [1,2,3,4]\n",
    "\n",
    "# heights of bars\n",
    "height = AreaDifference\n",
    "\n",
    "# labels for bars\n",
    "tick_label = ['1973-1980', '1980-1989', '1989-2003', '2003-2010']\n",
    "\n",
    "# plotting a bar chart\n",
    "plt.bar(left, height, tick_label = tick_label,width = 0.5, color = ['red', 'green','blue','orange'])\n",
    "\n",
    "# naming the x-axis\n",
    "plt.xlabel('Year')\n",
    "# naming the y-axis\n",
    "plt.ylabel('Area Changed')\n",
    "# plot title\n",
    "plt.title('Bar Graph')\n",
    "\n",
    "# function to show the plot\n",
    "plt.show()"
   ]
  }
 ],
 "metadata": {
  "kernelspec": {
   "display_name": "Python 3.9.0 ('env': venv)",
   "language": "python",
   "name": "python3"
  },
  "language_info": {
   "codemirror_mode": {
    "name": "ipython",
    "version": 3
   },
   "file_extension": ".py",
   "mimetype": "text/x-python",
   "name": "python",
   "nbconvert_exporter": "python",
   "pygments_lexer": "ipython3",
   "version": "3.9.0"
  },
  "vscode": {
   "interpreter": {
    "hash": "6d3badd7deca65574e80607b2f564404301a465f7a39277ef39de2005562efbe"
   }
  }
 },
 "nbformat": 4,
 "nbformat_minor": 2
}
